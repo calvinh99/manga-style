{
 "cells": [
  {
   "cell_type": "markdown",
   "id": "19ae7d88-b15c-44ab-a633-ec3dea8d8ef2",
   "metadata": {},
   "source": [
    "# Imports"
   ]
  },
  {
   "cell_type": "code",
   "execution_count": 236,
   "id": "5903b35a-6c53-4bc0-9351-f93670ee074c",
   "metadata": {},
   "outputs": [],
   "source": [
    "# paths\n",
    "import os\n",
    "import sys\n",
    "from pathlib import Path\n",
    "\n",
    "# display\n",
    "from tqdm.notebook import tqdm\n",
    "\n",
    "# fastai\n",
    "from fastdownload import download_url\n",
    "from fastai.vision.utils import verify_images\n",
    "from fastai.data.transforms import get_image_files\n",
    "\n",
    "# scraping\n",
    "import time\n",
    "import requests\n",
    "import shutil\n",
    "from selenium import webdriver\n",
    "from selenium.webdriver.common.by import By\n",
    "from selenium.webdriver.chrome.service import Service\n",
    "from bs4 import BeautifulSoup\n",
    "from webdriver_manager.chrome import ChromeDriverManager"
   ]
  },
  {
   "cell_type": "markdown",
   "id": "8f1a49dc-c68a-4494-adda-274756f994c3",
   "metadata": {},
   "source": [
    "# Imagescraper"
   ]
  },
  {
   "cell_type": "markdown",
   "id": "64500c9c-1b9f-4bd8-be75-54cd89f323bc",
   "metadata": {},
   "source": [
    "A class that can scrape images from sites like **[artstation](https://www.artstation.com)**, **[pinterest](https://www.pinterest.com/)**, **[pixiv](https://www.pixiv.net/en/)**, **[reddit-memes](https://www.reddit.com/r/memes/)**, **[memebase](https://memebase.cheezburger.com/)**, etc."
   ]
  },
  {
   "cell_type": "markdown",
   "id": "bdd8cf10-805b-44f8-b268-8011c69a3a71",
   "metadata": {},
   "source": [
    "Create a directory for anime girl images."
   ]
  },
  {
   "cell_type": "code",
   "execution_count": 55,
   "id": "94ceb7c0-510a-44fb-8533-21e474f2b752",
   "metadata": {},
   "outputs": [],
   "source": [
    "download_dir = Path(\"./data\")\n",
    "if not os.path.exists(download_dir):\n",
    "    os.mkdir(download_dir)"
   ]
  },
  {
   "cell_type": "markdown",
   "id": "c81968c6-357e-4658-bc39-8f449cb1a34e",
   "metadata": {},
   "source": [
    "Let's start with ArtStation."
   ]
  },
  {
   "cell_type": "markdown",
   "id": "86a2c6ea-d06c-4d0f-b23c-5836a15581cd",
   "metadata": {},
   "source": [
    "ImageScraper class."
   ]
  },
  {
   "cell_type": "code",
   "execution_count": 273,
   "id": "654f7359-d7f5-4d68-885e-0512ce112237",
   "metadata": {},
   "outputs": [],
   "source": [
    "class ImageScraper():\n",
    "    def __init__(self):\n",
    "        # Save WebDriver to project root in dir `.wdm`\n",
    "        os.environ['WDM_LOCAL'] = '1'\n",
    "        self.driver_path = ChromeDriverManager().install()\n",
    "        \n",
    "        self.img_urls = set() # set so no duplicates\n",
    "        \n",
    "    def artstation_scrape(self, n_images, url):\n",
    "        \"\"\"\n",
    "        Takes a search url and scrapes image urls from artstation and saves them in mem.\n",
    "        \n",
    "        Examples\n",
    "        --------\n",
    "        >>> scrape(\"./data/anime_girls\", n_images=10, \n",
    "                   url=\"https://www.artstation.com/search?sort_by=relevance&query=girls&category_ids=3,38&medium_ids=1\")\n",
    "        \"\"\"\n",
    "        # start up chrome driver\n",
    "        service = Service(executable_path=self.driver_path)\n",
    "        driver = webdriver.Chrome(service=service)\n",
    "        driver.get(url)\n",
    "        time.sleep(5)\n",
    "        \n",
    "        t = 1\n",
    "        image_count = 0\n",
    "        while image_count < n_images:\n",
    "            # 1. Click on next thumbnail\n",
    "            xpath = (\n",
    "                \"/html/body/div[2]/app-root/app-layout/search-artwork/projects-list/div/projects-list-item[{}]/a\"\n",
    "                .format(t)\n",
    "            )\n",
    "            thumbnail = driver.find_element(By.XPATH, xpath)\n",
    "            thumbnail.click()\n",
    "            time.sleep(2)\n",
    "        \n",
    "            # 2. Get all img elements\n",
    "            i = 1\n",
    "            xpath = (\n",
    "                \"/html/body/div[2]/app-root/app-layout/search-artwork/project-view/div/div/main/div/project-asset\"\n",
    "                \"//img[@class='img img-responsive block-center img-fit']\"\n",
    "            )\n",
    "            imgs = driver.find_elements(By.XPATH, xpath)\n",
    "            \n",
    "            # 3. Add up to n_images but not over\n",
    "            n_remaining = n_images - image_count\n",
    "            if n_remaining < len(imgs):\n",
    "                cap = n_remaining\n",
    "            else:\n",
    "                cap = len(imgs)\n",
    "            image_count += cap\n",
    "            self.img_urls.update([img.get_attribute('src') for img in imgs][:cap])\n",
    "            \n",
    "            # 4. Go back to click on next thumbnail\n",
    "            t += 1\n",
    "            driver.back()\n",
    "\n",
    "        driver.quit()\n",
    "    \n",
    "    def save_urls(self, download_path):\n",
    "        if not os.path.exists(download_path):\n",
    "            os.mkdir(download_path)\n",
    "        \n",
    "        with open(download_path / \"image_urls.txt\", \"a\") as f:\n",
    "            url_str = \"\\n\".join(self.img_urls)\n",
    "            f.write(url_str)\n",
    "        \n",
    "    def save_images(self, download_path):\n",
    "        \"\"\"\n",
    "        Downloads all images from current instance's img_urls.\n",
    "        \"\"\"\n",
    "        \n",
    "        if not os.path.exists(download_path):\n",
    "            os.mkdir(download_path)\n",
    "        \n",
    "        for img_url in tqdm(self.img_urls):\n",
    "            img_path = download_path / (Path(img_url).stem + \".jpg\")\n",
    "            download_url(img_url, img_path, show_progress=False)"
   ]
  },
  {
   "cell_type": "code",
   "execution_count": 274,
   "id": "a1ebef86-ca7d-438d-a5c0-28ca87666b8b",
   "metadata": {},
   "outputs": [],
   "source": [
    "scraper = ImageScraper()"
   ]
  },
  {
   "cell_type": "code",
   "execution_count": 262,
   "id": "222f40f1-93a6-4a2f-a136-1ffa99e493d5",
   "metadata": {},
   "outputs": [],
   "source": [
    "scraper.artstation_scrape(n_images=100, \n",
    "                          url=\"https://www.artstation.com/search?sort_by=relevance&query=girls&category_ids=3,38&medium_ids=1\")"
   ]
  },
  {
   "cell_type": "markdown",
   "id": "f3127b23-52da-4ef7-80f6-5172623d248a",
   "metadata": {},
   "source": [
    "Now let's save the urls and images."
   ]
  },
  {
   "cell_type": "code",
   "execution_count": 275,
   "id": "034c9361-d7f0-4869-8f73-27860b945c54",
   "metadata": {},
   "outputs": [],
   "source": [
    "scraper.img_urls = urls"
   ]
  },
  {
   "cell_type": "code",
   "execution_count": 276,
   "id": "af456fff-a484-49ca-98ac-b54da6ce8a6e",
   "metadata": {},
   "outputs": [
    {
     "data": {
      "text/plain": [
       "100"
      ]
     },
     "execution_count": 276,
     "metadata": {},
     "output_type": "execute_result"
    }
   ],
   "source": [
    "len(scraper.img_urls)"
   ]
  },
  {
   "cell_type": "code",
   "execution_count": 277,
   "id": "da473daf-3634-4fe7-bbdd-cf66fffef5ef",
   "metadata": {},
   "outputs": [],
   "source": [
    "scraper.save_urls(download_dir / \"anime_girls\")"
   ]
  },
  {
   "cell_type": "markdown",
   "id": "417bb875-06cd-4ffb-921d-745f2e7c3a2a",
   "metadata": {},
   "source": [
    "TODO\n",
    "> Add a load url function that will load self.img_urls from a url.txt save"
   ]
  },
  {
   "cell_type": "code",
   "execution_count": 278,
   "id": "d5b529ae-520a-41c5-a189-27ebbe455c35",
   "metadata": {},
   "outputs": [
    {
     "data": {
      "application/vnd.jupyter.widget-view+json": {
       "model_id": "754a77975b28450792521b1533041432",
       "version_major": 2,
       "version_minor": 0
      },
      "text/plain": [
       "  0%|          | 0/100 [00:00<?, ?it/s]"
      ]
     },
     "metadata": {},
     "output_type": "display_data"
    }
   ],
   "source": [
    "scraper.save_images(download_dir / \"anime_girls\")"
   ]
  },
  {
   "cell_type": "markdown",
   "id": "26921a73-cefe-46f8-b233-e9eb25c9f65f",
   "metadata": {},
   "source": [
    "TODO\n",
    "> Make a function to view the images saved"
   ]
  },
  {
   "cell_type": "markdown",
   "id": "a97f5414-f853-4521-a90e-230fd12c16fa",
   "metadata": {},
   "source": [
    "To scale this you will need to consider RAM and cloud storage.\n",
    "- You will need to save urls every 100 or 1000 images\n",
    "- You will need to change the save images method to save to gcs"
   ]
  }
 ],
 "metadata": {
  "kernelspec": {
   "display_name": "Python 3 (ipykernel)",
   "language": "python",
   "name": "python3"
  },
  "language_info": {
   "codemirror_mode": {
    "name": "ipython",
    "version": 3
   },
   "file_extension": ".py",
   "mimetype": "text/x-python",
   "name": "python",
   "nbconvert_exporter": "python",
   "pygments_lexer": "ipython3",
   "version": "3.10.4"
  }
 },
 "nbformat": 4,
 "nbformat_minor": 5
}
